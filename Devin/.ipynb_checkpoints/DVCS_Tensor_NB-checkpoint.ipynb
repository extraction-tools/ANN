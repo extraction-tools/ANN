{
 "cells": [
  {
   "cell_type": "code",
   "execution_count": 1,
   "id": "0d3e2e98",
   "metadata": {},
   "outputs": [],
   "source": [
    "import tensorly as tl\n",
    "import numpy as np\n",
    "import matplotlib.pyplot as plt"
   ]
  },
  {
   "cell_type": "code",
   "execution_count": 32,
   "id": "35964d46",
   "metadata": {},
   "outputs": [
    {
     "name": "stderr",
     "output_type": "stream",
     "text": [
      "C:\\Users\\xXDRP\\AppData\\Local\\Temp\\ipykernel_4320\\979682995.py:10: RuntimeWarning: invalid value encountered in sqrt\n",
      "  Pmag = np.sqrt(-t*(1 - (t/4*M*M)))\n",
      "C:\\Users\\xXDRP\\AppData\\Local\\Temp\\ipykernel_4320\\979682995.py:14: RuntimeWarning: invalid value encountered in sqrt\n",
      "  cos_theta_prime = -(Gamma*Gamma*(Q*Q - t) - 2*xB*t)/(4*xB*M*np.sqrt(1+Gamma*Gamma)*np.sqrt(-t*((1-(t)/(4*M*M)))))\n",
      "C:\\Users\\xXDRP\\AppData\\Local\\Temp\\ipykernel_4320\\979682995.py:16: RuntimeWarning: divide by zero encountered in scalar divide\n",
      "  cos_theta_l_prime = -(1-y-(Gamma*Gamma*y)/2)/((1-y)*np.sqrt(1+Gamma*Gamma))\n",
      "C:\\Users\\xXDRP\\AppData\\Local\\Temp\\ipykernel_4320\\979682995.py:17: RuntimeWarning: invalid value encountered in sqrt\n",
      "  sin_theta_l = ((Gamma)/(np.sqrt(1+Gamma*Gamma)))*np.sqrt(1-y-(y*y*Gamma*Gamma)/(4))\n"
     ]
    }
   ],
   "source": [
    "M = 1.\n",
    "Q = 1.\n",
    "Gamma = 1.\n",
    "y = 1.\n",
    "xB = 1.\n",
    "k0 = float(Q/(Gamma*y))\n",
    "t = 1.\n",
    "theta_prime = theta = 2*np.pi \n",
    "phi = np.pi\n",
    "Pmag = np.sqrt(-t*(1 - (t/4*M*M)))\n",
    "k0_prime = Q*(1-y)/(Gamma*y)\n",
    "q0_prime = (Q*Q + xB*t)/(2*M*xB)\n",
    "cos_theta = -(1+((Gamma*Gamma)/(2))*((Q*Q + t)/(Q*Q + xB*t)))/(np.sqrt(1 + Gamma*Gamma))\n",
    "cos_theta_prime = -(Gamma*Gamma*(Q*Q - t) - 2*xB*t)/(4*xB*M*np.sqrt(1+Gamma*Gamma)*np.sqrt(-t*((1-(t)/(4*M*M)))))\n",
    "cos_theta_l = -(1+y*(Gamma*Gamma)/2)/(np.sqrt(1+Gamma*Gamma))\n",
    "cos_theta_l_prime = -(1-y-(Gamma*Gamma*y)/2)/((1-y)*np.sqrt(1+Gamma*Gamma))\n",
    "sin_theta_l = ((Gamma)/(np.sqrt(1+Gamma*Gamma)))*np.sqrt(1-y-(y*y*Gamma*Gamma)/(4))\n",
    "sin_theta_l_prime = sin_theta_l/(1-y)\n",
    "\n",
    "alpha = 1/2\n",
    "beta = 1/2\n",
    "xi = (xB)/(2-xB) - (2*xB*(2*alpha*M*M*xB*xB + (xB - 1)*(1 - 2*alpha + (beta - 1)*xB)*t))/((xB - 2)*(xB - 2)*(1 + (beta - 1)*xB)*Q*Q)\n",
    "\n",
    "Delta_perp = (-4*xi*xi*M*M + (xi*xi - 1)*t)/(1 + (2*beta-1)*xi*xi)**2\n",
    "\n",
    "eta = xi*(1 - (alpha**2 * Delta_perp)/(Q**2))\n",
    "A = (1-xi)+2*xi*beta\n",
    "B = (M*M + beta*beta*Delta_perp)/(2*(1-xi)) + (beta*(t + Delta_perp))/(4*xi)\n",
    "C = -2*(eta - xi) - 2*xi*alpha\n",
    "D = -(-(Q**2)+(alpha - 1)**2*Delta_perp)/(4*eta) + (1 - alpha)*(Delta_perp + t)/(4*xi)"
   ]
  },
  {
   "cell_type": "code",
   "execution_count": 36,
   "id": "83b17494",
   "metadata": {},
   "outputs": [
    {
     "name": "stderr",
     "output_type": "stream",
     "text": [
      "C:\\Users\\xXDRP\\AppData\\Local\\Temp\\ipykernel_4320\\1292143858.py:4: RuntimeWarning: invalid value encountered in scalar multiply\n",
      "  k_prime = tl.vec_to_tensor([k0_prime,k0_prime*sin_theta_l_prime,0,k0_prime*cos_theta_l_prime],shape = (4,1))\n"
     ]
    },
    {
     "data": {
      "text/plain": [
       "array([[0.00723684],\n",
       "       [       nan],\n",
       "       [       nan],\n",
       "       [       nan]])"
      ]
     },
     "execution_count": 36,
     "metadata": {},
     "output_type": "execute_result"
    }
   ],
   "source": [
    "P = tl.vec_to_tensor([M,0,0,0],shape = (4,1))\n",
    "q = tl.vec_to_tensor([Q/Gamma,0,0,-(Q/Gamma)*np.sqrt(1+Gamma*Gamma)],shape = (4,1))\n",
    "k = tl.vec_to_tensor([k0,k0*sin_theta_l,0,k0*cos_theta_l],shape = (4,1))\n",
    "k_prime = tl.vec_to_tensor([k0_prime,k0_prime*sin_theta_l_prime,0,k0_prime*cos_theta_l_prime],shape = (4,1))\n",
    "P_prime = tl.vec_to_tensor([M - (t/(2*M)), Pmag*np.sin(theta_prime)*np.cos(phi),Pmag*np.sin(theta_prime)*np.sin(phi),Pmag*cos_theta_l],shape = (4,1))\n",
    "q_prime = tl.vec_to_tensor([q0_prime,q0_prime*np.sin(theta)*np.cos(phi),k0_prime*np.sin(theta)*np.sin(phi),q0_prime*np.cos(theta)], shape = (4,1))\n",
    "\n",
    "g = tl.vec_to_tensor([[-1,0,0,0],[0,-1,0,0],[0,0,-1,0],[0,0,0,1]],shape = (4,4))\n",
    "\n",
    "P_L = beta*P - (1-beta)*P_prime\n",
    "q_L = alpha*q + (1 - alpha)*q_prime\n",
    "\n",
    "p = (-D*P_L + B*q_L)/(B*C - D*A)\n",
    "n = (C*P_L - A*q_L)/(B*C - D*A)\n"
   ]
  },
  {
   "cell_type": "code",
   "execution_count": 39,
   "id": "0bf1974a",
   "metadata": {},
   "outputs": [
    {
     "data": {
      "text/plain": [
       "array([[ 0.5, -0. , -0. , -0. ],\n",
       "       [-0. ,  0.5, -0. , -0. ],\n",
       "       [-0. , -0. ,  0.5, -0. ],\n",
       "       [-0. , -0. , -0. , -0.5]])"
      ]
     },
     "execution_count": 39,
     "metadata": {},
     "output_type": "execute_result"
    }
   ],
   "source": [
    "Script_T = -(1/2)*g\n",
    "Script_T"
   ]
  },
  {
   "cell_type": "code",
   "execution_count": null,
   "id": "615cda4f",
   "metadata": {},
   "outputs": [],
   "source": []
  }
 ],
 "metadata": {
  "kernelspec": {
   "display_name": "Python 3",
   "language": "python",
   "name": "python3"
  },
  "language_info": {
   "codemirror_mode": {
    "name": "ipython",
    "version": 3
   },
   "file_extension": ".py",
   "mimetype": "text/x-python",
   "name": "python",
   "nbconvert_exporter": "python",
   "pygments_lexer": "ipython3",
   "version": "3.6.8"
  }
 },
 "nbformat": 4,
 "nbformat_minor": 5
}
